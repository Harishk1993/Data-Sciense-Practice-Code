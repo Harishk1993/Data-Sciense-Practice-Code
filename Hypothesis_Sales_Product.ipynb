{
 "cells": [
  {
   "cell_type": "code",
   "execution_count": 1,
   "id": "8b71c6b1",
   "metadata": {},
   "outputs": [
    {
     "data": {
      "text/html": [
       "<div>\n",
       "<style scoped>\n",
       "    .dataframe tbody tr th:only-of-type {\n",
       "        vertical-align: middle;\n",
       "    }\n",
       "\n",
       "    .dataframe tbody tr th {\n",
       "        vertical-align: top;\n",
       "    }\n",
       "\n",
       "    .dataframe thead th {\n",
       "        text-align: right;\n",
       "    }\n",
       "</style>\n",
       "<table border=\"1\" class=\"dataframe\">\n",
       "  <thead>\n",
       "    <tr style=\"text-align: right;\">\n",
       "      <th></th>\n",
       "      <th>East</th>\n",
       "      <th>West</th>\n",
       "      <th>North</th>\n",
       "      <th>South</th>\n",
       "    </tr>\n",
       "  </thead>\n",
       "  <tbody>\n",
       "    <tr>\n",
       "      <th>Male</th>\n",
       "      <td>50</td>\n",
       "      <td>142</td>\n",
       "      <td>131</td>\n",
       "      <td>70</td>\n",
       "    </tr>\n",
       "    <tr>\n",
       "      <th>Female</th>\n",
       "      <td>550</td>\n",
       "      <td>351</td>\n",
       "      <td>480</td>\n",
       "      <td>350</td>\n",
       "    </tr>\n",
       "  </tbody>\n",
       "</table>\n",
       "</div>"
      ],
      "text/plain": [
       "        East  West  North  South\n",
       "Male      50   142    131     70\n",
       "Female   550   351    480    350"
      ]
     },
     "execution_count": 1,
     "metadata": {},
     "output_type": "execute_result"
    }
   ],
   "source": [
    "import pandas as pd\n",
    "\n",
    "df = pd.DataFrame([\n",
    "    [50,142,131,70],[550,351,480,350]],\n",
    "     index = ['Male','Female'], columns =['East','West','North','South'])\n",
    "df"
   ]
  },
  {
   "cell_type": "code",
   "execution_count": 13,
   "id": "34db63ed",
   "metadata": {},
   "outputs": [
    {
     "data": {
      "text/plain": [
       "(80.27295426602495,\n",
       " 2.682172557281901e-17,\n",
       " 3,\n",
       " array([[111.01694915,  91.21892655, 113.05225989,  77.71186441],\n",
       "        [488.98305085, 401.78107345, 497.94774011, 342.28813559]]))"
      ]
     },
     "execution_count": 13,
     "metadata": {},
     "output_type": "execute_result"
    }
   ],
   "source": [
    "# run chi-square test for independence\n",
    "from scipy.stats import chi2_contingency\n",
    "chi2_contingency(df)"
   ]
  },
  {
   "cell_type": "code",
   "execution_count": null,
   "id": "14e7ae33",
   "metadata": {},
   "outputs": [],
   "source": [
    "# Compare p_value with α = 0.05\n",
    "# p_value we have got is 2.68 e-17  which is smaller then alpha valve, we will fail to reject the Null hypothesis here\n",
    "#pvalue > alpha ( 2.68 e-17 < 0.05)\n",
    "#reject null => There is  difference in the diameter of the cutlets of Error_Free and Defective"
   ]
  },
  {
   "cell_type": "code",
   "execution_count": null,
   "id": "77c4cdc2",
   "metadata": {},
   "outputs": [],
   "source": []
  },
  {
   "cell_type": "code",
   "execution_count": null,
   "id": "056ea864",
   "metadata": {},
   "outputs": [],
   "source": []
  }
 ],
 "metadata": {
  "kernelspec": {
   "display_name": "Python 3 (ipykernel)",
   "language": "python",
   "name": "python3"
  },
  "language_info": {
   "codemirror_mode": {
    "name": "ipython",
    "version": 3
   },
   "file_extension": ".py",
   "mimetype": "text/x-python",
   "name": "python",
   "nbconvert_exporter": "python",
   "pygments_lexer": "ipython3",
   "version": "3.9.12"
  }
 },
 "nbformat": 4,
 "nbformat_minor": 5
}
